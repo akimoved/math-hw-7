{
 "cells": [
  {
   "cell_type": "markdown",
   "metadata": {},
   "source": [
    "# Level 0"
   ]
  },
  {
   "cell_type": "code",
   "execution_count": 54,
   "metadata": {},
   "outputs": [],
   "source": [
    "import numpy as np\n",
    "from scipy.special import comb\n",
    "from scipy import stats\n",
    "import matplotlib.pyplot as plt"
   ]
  },
  {
   "cell_type": "markdown",
   "metadata": {},
   "source": [
    "## Ex 1"
   ]
  },
  {
   "cell_type": "code",
   "execution_count": 55,
   "metadata": {},
   "outputs": [
    {
     "name": "stdout",
     "output_type": "stream",
     "text": [
      "Вероятность выпадения простого числа орлов - 0.3499755859375\n"
     ]
    }
   ],
   "source": [
    "def bernulli(n, k, p=0.5):\n",
    "    q = 1 - p\n",
    "    \n",
    "    return comb(n,k)*(p**k)*((1-p)**(n-k))\n",
    "    \n",
    "n = 15\n",
    "prob = 0\n",
    "for k in [2,3,5,7,11,13]:\n",
    "    prob += bernulli(n,k)\n",
    "    \n",
    "print('Вероятность выпадения простого числа орлов -',prob)"
   ]
  },
  {
   "cell_type": "markdown",
   "metadata": {},
   "source": [
    "## Ex 2"
   ]
  },
  {
   "cell_type": "code",
   "execution_count": 56,
   "metadata": {},
   "outputs": [],
   "source": [
    "pk = np.random.random(10)\n",
    "pk = pk / pk.sum()\n",
    "sample = np.random.choice(10, 1000, p=pk)"
   ]
  },
  {
   "cell_type": "code",
   "execution_count": 57,
   "metadata": {},
   "outputs": [
    {
     "name": "stdout",
     "output_type": "stream",
     "text": [
      "X |   p \n",
      "------\n",
      "0 |  0.06\n",
      "1 |  0.15\n",
      "2 |  0.14\n",
      "3 |  0.0\n",
      "4 |  0.08\n",
      "5 |  0.1\n",
      "6 |  0.16\n",
      "7 |  0.03\n",
      "8 |  0.04\n",
      "9 |  0.24\n"
     ]
    },
    {
     "data": {
      "image/png": "[encoded data removed]",
      "text/plain": [
       "<Figure size 432x288 with 1 Axes>"
      ]
     },
     "metadata": {
      "needs_background": "light"
     },
     "output_type": "display_data"
    }
   ],
   "source": [
    "plt.hist(sample, density=True)\n",
    "print('X', '|   p','\\n------')\n",
    "for i, k in enumerate(pk):\n",
    "    print(i, '| ',round(k,2))"
   ]
  },
  {
   "cell_type": "markdown",
   "metadata": {},
   "source": [
    "# Level 1"
   ]
  },
  {
   "cell_type": "markdown",
   "metadata": {},
   "source": [
    "## Ex 3"
   ]
  },
  {
   "cell_type": "markdown",
   "metadata": {},
   "source": [
    "Рассмотрим вероятности наступления событий $A_1$, $A_2$ и $A_3$:\n",
    "$$\n",
    "p(A_1) = p(A_2) = p(A_3) = 0.5\n",
    "$$\n",
    "\n",
    "Вероятности совместного наступления событий $A_1\\cap\\,A_2$, $A_2\\cap\\,A_3$ и $A_1\\cap\\,A_3$ соответственно равны:\n",
    "$$\n",
    "p(A_1\\cap\\,A_2) = p(A_2\\cap\\,A_3) = p(A_1\\cap\\,A_3) = 0.5\\cdot\\,0.5 = 0.25 \\\\\n",
    "p(A_1)\\cdot\\,p(A_2) = p(A_2)\\cdot\\,p(A_3) = p(A_1)\\cdot\\,p(A_3) = 0.5\\cdot\\,0.5 = 0.25\n",
    "$$\n",
    "\n",
    "$$\n",
    "p(A_1\\cap\\,A_2) = p(A_1)\\cdot\\,p(A_2)\\\\\n",
    "p(A_2\\cap\\,A_3) = p(A_2)\\cdot\\,p(A_3)\\\\\n",
    "p(A_1\\cap\\,A_3) = p(A_1)\\cdot\\,p(A_3)\\\\\n",
    "$$\n",
    "Следовательно, события $A_1$, $A_2$ и $A_3$ являются $\\textbf{попарно независимыми}$. Однако каждое из данных событий становится достоверным при наступлении двух других. \n",
    "Например, в результате наступления события $A_1\\cap\\,A_2$ получается результат, когда все монеты выпали одной стороной (орлом или решкой), при этом событие $A_3$ не может не наступить (монеты 1 и 3 не могут выпасть разными сторонами, т.к. они уже выпали одной в результате наступления события $A_1\\cap\\,A_2$. Отсюда:\n",
    "$$\n",
    "p(A_1\\cap\\,A_2\\cap\\,A_3) = p(A_1)\\cdot\\,p(A_2|A_1)\\cdot\\,p(A_3|A_1 A_2) = 0.5\\cdot\\,0.5\\cdot\\,1 = 0.25\n",
    "$$\n",
    "В то же время\n",
    "$$\n",
    "p(A_1)\\cdot\\,p(A_2)\\cdot\\,p(A_3) = 0.5\\cdot\\,0.5\\cdot\\,0.5 = 0.125 \\\\\n",
    "p(A_1\\cap\\,A_2\\cap\\,A_3) \\neq p(A_1)\\cdot\\,p(A_2)\\cdot\\,p(A_3)\n",
    "$$\n",
    "Из чего следует, что события $A_1$, $A_2$ и $A_3$ **не являются независимыми в совокупности**. *Q.E.D.*"
   ]
  },
  {
   "cell_type": "markdown",
   "metadata": {},
   "source": [
    "## Ex 4"
   ]
  },
  {
   "cell_type": "markdown",
   "metadata": {},
   "source": [
    "Пусть произошло событие $A$ - был куплен товар высшего качества. А гипотеза $H_i$ состоит в том, что куплена был товар производства $i$-го предприятия.\n",
    "В таком случае полная вероятность наступления события $A$:\n",
    "$$\n",
    "p(A) = \\sum_{i=1}^np(A|H_i)\\cdot p(H_i) = p(A|H_1) \\cdot p(H_1) + p(A|H_2) \\cdot p(H_2) + p(A|H_3) \\cdot p(H_3) = 0.1 \\cdot 0.2 + 0.05 \\cdot 0.3 + 0.2 \\cdot 0.5 = 0.135\n",
    "$$"
   ]
  }
 ],
 "metadata": {
  "kernelspec": {
   "display_name": "Python 3",
   "language": "python",
   "name": "python3"
  },
  "language_info": {
   "codemirror_mode": {
    "name": "ipython",
    "version": 3
   },
   "file_extension": ".py",
   "mimetype": "text/x-python",
   "name": "python",
   "nbconvert_exporter": "python",
   "pygments_lexer": "ipython3",
   "version": "3.8.5"
  }
 },
 "nbformat": 4,
 "nbformat_minor": 4
}
